{
 "cells": [
  {
   "cell_type": "code",
   "execution_count": 23,
   "metadata": {},
   "outputs": [],
   "source": [
    "import pandas as pd\n",
    "import numpy as np\n",
    "import matplotlib.pyplot as plt\n",
    "import seaborn as sns\n",
    "from sklearn.model_selection import train_test_split\n",
    "from sklearn import metrics\n",
    "%matplotlib inline\n",
    "sns.set_style(\"darkgrid\")\n",
    "sns.set(style=\"ticks\", color_codes=True)"
   ]
  },
  {
   "cell_type": "code",
   "execution_count": null,
   "metadata": {},
   "outputs": [],
   "source": []
  },
  {
   "cell_type": "code",
   "execution_count": 4,
   "metadata": {},
   "outputs": [
    {
     "data": {
      "text/html": [
       "<div>\n",
       "<style scoped>\n",
       "    .dataframe tbody tr th:only-of-type {\n",
       "        vertical-align: middle;\n",
       "    }\n",
       "\n",
       "    .dataframe tbody tr th {\n",
       "        vertical-align: top;\n",
       "    }\n",
       "\n",
       "    .dataframe thead th {\n",
       "        text-align: right;\n",
       "    }\n",
       "</style>\n",
       "<table border=\"1\" class=\"dataframe\">\n",
       "  <thead>\n",
       "    <tr style=\"text-align: right;\">\n",
       "      <th></th>\n",
       "      <th>parent_protein_id</th>\n",
       "      <th>protein_seq</th>\n",
       "      <th>start_position</th>\n",
       "      <th>end_position</th>\n",
       "      <th>peptide_seq</th>\n",
       "      <th>chou_fasman</th>\n",
       "      <th>emini</th>\n",
       "      <th>kolaskar_tongaonkar</th>\n",
       "      <th>parker</th>\n",
       "      <th>isoelectric_point</th>\n",
       "      <th>aromaticity</th>\n",
       "      <th>hydrophobicity</th>\n",
       "      <th>stability</th>\n",
       "      <th>target</th>\n",
       "    </tr>\n",
       "  </thead>\n",
       "  <tbody>\n",
       "    <tr>\n",
       "      <th>0</th>\n",
       "      <td>A2T3T0</td>\n",
       "      <td>MDVLYSLSKTLKDARDKIVEGTLYSNVSDLIQQFNQMIITMNGNEF...</td>\n",
       "      <td>161</td>\n",
       "      <td>165</td>\n",
       "      <td>SASFT</td>\n",
       "      <td>1.016</td>\n",
       "      <td>0.703</td>\n",
       "      <td>1.018</td>\n",
       "      <td>2.22</td>\n",
       "      <td>5.810364</td>\n",
       "      <td>0.103275</td>\n",
       "      <td>-0.143829</td>\n",
       "      <td>40.273300</td>\n",
       "      <td>1</td>\n",
       "    </tr>\n",
       "    <tr>\n",
       "      <th>1</th>\n",
       "      <td>F0V2I4</td>\n",
       "      <td>MTIHKVAINGFGRIGRLLFRNLLSSQGVQVVAVNDVVDIKVLTHLL...</td>\n",
       "      <td>251</td>\n",
       "      <td>255</td>\n",
       "      <td>LCLKI</td>\n",
       "      <td>0.770</td>\n",
       "      <td>0.179</td>\n",
       "      <td>1.199</td>\n",
       "      <td>-3.86</td>\n",
       "      <td>6.210876</td>\n",
       "      <td>0.065476</td>\n",
       "      <td>-0.036905</td>\n",
       "      <td>24.998512</td>\n",
       "      <td>1</td>\n",
       "    </tr>\n",
       "    <tr>\n",
       "      <th>2</th>\n",
       "      <td>O75508</td>\n",
       "      <td>MVATCLQVVGFVTSFVGWIGVIVTTSTNDWVVTCGYTIPTCRKLDE...</td>\n",
       "      <td>145</td>\n",
       "      <td>149</td>\n",
       "      <td>AHRET</td>\n",
       "      <td>0.852</td>\n",
       "      <td>3.427</td>\n",
       "      <td>0.960</td>\n",
       "      <td>4.28</td>\n",
       "      <td>8.223938</td>\n",
       "      <td>0.091787</td>\n",
       "      <td>0.879227</td>\n",
       "      <td>27.863333</td>\n",
       "      <td>1</td>\n",
       "    </tr>\n",
       "    <tr>\n",
       "      <th>3</th>\n",
       "      <td>O84462</td>\n",
       "      <td>MTNSISGYQPTVTTSTSSTTSASGASGSLGASSVSTTANATVTQTA...</td>\n",
       "      <td>152</td>\n",
       "      <td>156</td>\n",
       "      <td>SNYDD</td>\n",
       "      <td>1.410</td>\n",
       "      <td>2.548</td>\n",
       "      <td>0.936</td>\n",
       "      <td>6.32</td>\n",
       "      <td>4.237976</td>\n",
       "      <td>0.044776</td>\n",
       "      <td>-0.521393</td>\n",
       "      <td>30.765373</td>\n",
       "      <td>1</td>\n",
       "    </tr>\n",
       "    <tr>\n",
       "      <th>4</th>\n",
       "      <td>P00918</td>\n",
       "      <td>MSHHWGYGKHNGPEHWHKDFPIAKGERQSPVDIDTHTAKYDPSLKP...</td>\n",
       "      <td>85</td>\n",
       "      <td>89</td>\n",
       "      <td>DGTYR</td>\n",
       "      <td>1.214</td>\n",
       "      <td>1.908</td>\n",
       "      <td>0.937</td>\n",
       "      <td>4.64</td>\n",
       "      <td>6.867493</td>\n",
       "      <td>0.103846</td>\n",
       "      <td>-0.578846</td>\n",
       "      <td>21.684615</td>\n",
       "      <td>1</td>\n",
       "    </tr>\n",
       "  </tbody>\n",
       "</table>\n",
       "</div>"
      ],
      "text/plain": [
       "  parent_protein_id                                        protein_seq  \\\n",
       "0            A2T3T0  MDVLYSLSKTLKDARDKIVEGTLYSNVSDLIQQFNQMIITMNGNEF...   \n",
       "1            F0V2I4  MTIHKVAINGFGRIGRLLFRNLLSSQGVQVVAVNDVVDIKVLTHLL...   \n",
       "2            O75508  MVATCLQVVGFVTSFVGWIGVIVTTSTNDWVVTCGYTIPTCRKLDE...   \n",
       "3            O84462  MTNSISGYQPTVTTSTSSTTSASGASGSLGASSVSTTANATVTQTA...   \n",
       "4            P00918  MSHHWGYGKHNGPEHWHKDFPIAKGERQSPVDIDTHTAKYDPSLKP...   \n",
       "\n",
       "   start_position  end_position peptide_seq  chou_fasman  emini  \\\n",
       "0             161           165       SASFT        1.016  0.703   \n",
       "1             251           255       LCLKI        0.770  0.179   \n",
       "2             145           149       AHRET        0.852  3.427   \n",
       "3             152           156       SNYDD        1.410  2.548   \n",
       "4              85            89       DGTYR        1.214  1.908   \n",
       "\n",
       "   kolaskar_tongaonkar  parker  isoelectric_point  aromaticity  \\\n",
       "0                1.018    2.22           5.810364     0.103275   \n",
       "1                1.199   -3.86           6.210876     0.065476   \n",
       "2                0.960    4.28           8.223938     0.091787   \n",
       "3                0.936    6.32           4.237976     0.044776   \n",
       "4                0.937    4.64           6.867493     0.103846   \n",
       "\n",
       "   hydrophobicity  stability  target  \n",
       "0       -0.143829  40.273300       1  \n",
       "1       -0.036905  24.998512       1  \n",
       "2        0.879227  27.863333       1  \n",
       "3       -0.521393  30.765373       1  \n",
       "4       -0.578846  21.684615       1  "
      ]
     },
     "execution_count": 4,
     "metadata": {},
     "output_type": "execute_result"
    }
   ],
   "source": [
    "\n",
    "data = pd.read_csv(\"input_bcell.csv\")\n",
    "data.head()"
   ]
  },
  {
   "cell_type": "code",
   "execution_count": 5,
   "metadata": {},
   "outputs": [
    {
     "data": {
      "text/plain": [
       "0    10485\n",
       "1     3902\n",
       "Name: target, dtype: int64"
      ]
     },
     "execution_count": 5,
     "metadata": {},
     "output_type": "execute_result"
    }
   ],
   "source": [
    "data[\"target\"].value_counts()"
   ]
  },
  {
   "cell_type": "code",
   "execution_count": 6,
   "metadata": {},
   "outputs": [
    {
     "data": {
      "text/html": [
       "<div>\n",
       "<style scoped>\n",
       "    .dataframe tbody tr th:only-of-type {\n",
       "        vertical-align: middle;\n",
       "    }\n",
       "\n",
       "    .dataframe tbody tr th {\n",
       "        vertical-align: top;\n",
       "    }\n",
       "\n",
       "    .dataframe thead th {\n",
       "        text-align: right;\n",
       "    }\n",
       "</style>\n",
       "<table border=\"1\" class=\"dataframe\">\n",
       "  <thead>\n",
       "    <tr style=\"text-align: right;\">\n",
       "      <th></th>\n",
       "      <th>start_position</th>\n",
       "      <th>end_position</th>\n",
       "      <th>chou_fasman</th>\n",
       "      <th>emini</th>\n",
       "      <th>kolaskar_tongaonkar</th>\n",
       "      <th>parker</th>\n",
       "      <th>isoelectric_point</th>\n",
       "      <th>aromaticity</th>\n",
       "      <th>hydrophobicity</th>\n",
       "      <th>stability</th>\n",
       "      <th>target</th>\n",
       "    </tr>\n",
       "  </thead>\n",
       "  <tbody>\n",
       "    <tr>\n",
       "      <th>count</th>\n",
       "      <td>14387.000000</td>\n",
       "      <td>14387.000000</td>\n",
       "      <td>14387.000000</td>\n",
       "      <td>14387.000000</td>\n",
       "      <td>14387.000000</td>\n",
       "      <td>14387.000000</td>\n",
       "      <td>14387.000000</td>\n",
       "      <td>14387.000000</td>\n",
       "      <td>14387.000000</td>\n",
       "      <td>14387.000000</td>\n",
       "      <td>14387.000000</td>\n",
       "    </tr>\n",
       "    <tr>\n",
       "      <th>mean</th>\n",
       "      <td>297.675818</td>\n",
       "      <td>308.085077</td>\n",
       "      <td>0.994706</td>\n",
       "      <td>1.059788</td>\n",
       "      <td>1.021188</td>\n",
       "      <td>1.767137</td>\n",
       "      <td>7.067472</td>\n",
       "      <td>0.075727</td>\n",
       "      <td>-0.406097</td>\n",
       "      <td>43.703902</td>\n",
       "      <td>0.271217</td>\n",
       "    </tr>\n",
       "    <tr>\n",
       "      <th>std</th>\n",
       "      <td>353.741450</td>\n",
       "      <td>353.733297</td>\n",
       "      <td>0.124772</td>\n",
       "      <td>1.621931</td>\n",
       "      <td>0.053804</td>\n",
       "      <td>1.968985</td>\n",
       "      <td>1.888708</td>\n",
       "      <td>0.025767</td>\n",
       "      <td>0.394618</td>\n",
       "      <td>16.682362</td>\n",
       "      <td>0.444603</td>\n",
       "    </tr>\n",
       "    <tr>\n",
       "      <th>min</th>\n",
       "      <td>1.000000</td>\n",
       "      <td>6.000000</td>\n",
       "      <td>0.534000</td>\n",
       "      <td>0.000000</td>\n",
       "      <td>0.838000</td>\n",
       "      <td>-9.029000</td>\n",
       "      <td>3.686096</td>\n",
       "      <td>0.000000</td>\n",
       "      <td>-1.971171</td>\n",
       "      <td>5.448936</td>\n",
       "      <td>0.000000</td>\n",
       "    </tr>\n",
       "    <tr>\n",
       "      <th>25%</th>\n",
       "      <td>84.000000</td>\n",
       "      <td>95.000000</td>\n",
       "      <td>0.911000</td>\n",
       "      <td>0.248000</td>\n",
       "      <td>0.986000</td>\n",
       "      <td>0.600000</td>\n",
       "      <td>5.621033</td>\n",
       "      <td>0.060606</td>\n",
       "      <td>-0.606215</td>\n",
       "      <td>31.614529</td>\n",
       "      <td>0.000000</td>\n",
       "    </tr>\n",
       "    <tr>\n",
       "      <th>50%</th>\n",
       "      <td>191.000000</td>\n",
       "      <td>200.000000</td>\n",
       "      <td>0.990000</td>\n",
       "      <td>0.556000</td>\n",
       "      <td>1.020000</td>\n",
       "      <td>1.793000</td>\n",
       "      <td>6.499573</td>\n",
       "      <td>0.074534</td>\n",
       "      <td>-0.330540</td>\n",
       "      <td>42.287268</td>\n",
       "      <td>0.000000</td>\n",
       "    </tr>\n",
       "    <tr>\n",
       "      <th>75%</th>\n",
       "      <td>382.000000</td>\n",
       "      <td>393.000000</td>\n",
       "      <td>1.074000</td>\n",
       "      <td>1.209000</td>\n",
       "      <td>1.055000</td>\n",
       "      <td>3.009500</td>\n",
       "      <td>8.676575</td>\n",
       "      <td>0.091312</td>\n",
       "      <td>-0.189591</td>\n",
       "      <td>49.101172</td>\n",
       "      <td>1.000000</td>\n",
       "    </tr>\n",
       "    <tr>\n",
       "      <th>max</th>\n",
       "      <td>3079.000000</td>\n",
       "      <td>3086.000000</td>\n",
       "      <td>1.546000</td>\n",
       "      <td>27.189000</td>\n",
       "      <td>1.255000</td>\n",
       "      <td>9.120000</td>\n",
       "      <td>12.232727</td>\n",
       "      <td>0.182254</td>\n",
       "      <td>1.267089</td>\n",
       "      <td>137.046667</td>\n",
       "      <td>1.000000</td>\n",
       "    </tr>\n",
       "  </tbody>\n",
       "</table>\n",
       "</div>"
      ],
      "text/plain": [
       "       start_position  end_position   chou_fasman         emini  \\\n",
       "count    14387.000000  14387.000000  14387.000000  14387.000000   \n",
       "mean       297.675818    308.085077      0.994706      1.059788   \n",
       "std        353.741450    353.733297      0.124772      1.621931   \n",
       "min          1.000000      6.000000      0.534000      0.000000   \n",
       "25%         84.000000     95.000000      0.911000      0.248000   \n",
       "50%        191.000000    200.000000      0.990000      0.556000   \n",
       "75%        382.000000    393.000000      1.074000      1.209000   \n",
       "max       3079.000000   3086.000000      1.546000     27.189000   \n",
       "\n",
       "       kolaskar_tongaonkar        parker  isoelectric_point   aromaticity  \\\n",
       "count         14387.000000  14387.000000       14387.000000  14387.000000   \n",
       "mean              1.021188      1.767137           7.067472      0.075727   \n",
       "std               0.053804      1.968985           1.888708      0.025767   \n",
       "min               0.838000     -9.029000           3.686096      0.000000   \n",
       "25%               0.986000      0.600000           5.621033      0.060606   \n",
       "50%               1.020000      1.793000           6.499573      0.074534   \n",
       "75%               1.055000      3.009500           8.676575      0.091312   \n",
       "max               1.255000      9.120000          12.232727      0.182254   \n",
       "\n",
       "       hydrophobicity     stability        target  \n",
       "count    14387.000000  14387.000000  14387.000000  \n",
       "mean        -0.406097     43.703902      0.271217  \n",
       "std          0.394618     16.682362      0.444603  \n",
       "min         -1.971171      5.448936      0.000000  \n",
       "25%         -0.606215     31.614529      0.000000  \n",
       "50%         -0.330540     42.287268      0.000000  \n",
       "75%         -0.189591     49.101172      1.000000  \n",
       "max          1.267089    137.046667      1.000000  "
      ]
     },
     "execution_count": 6,
     "metadata": {},
     "output_type": "execute_result"
    }
   ],
   "source": [
    "data.describe()"
   ]
  },
  {
   "cell_type": "code",
   "execution_count": 7,
   "metadata": {},
   "outputs": [
    {
     "name": "stdout",
     "output_type": "stream",
     "text": [
      "<class 'numpy.int64'>\n",
      "<class 'numpy.int64'>\n",
      "<class 'numpy.float64'>\n",
      "<class 'numpy.float64'>\n",
      "<class 'numpy.float64'>\n",
      "<class 'numpy.float64'>\n",
      "<class 'numpy.float64'>\n",
      "<class 'numpy.float64'>\n",
      "<class 'numpy.float64'>\n",
      "<class 'numpy.float64'>\n",
      "<class 'numpy.int64'>\n"
     ]
    }
   ],
   "source": [
    "columns = []\n",
    "for cols in data.columns:\n",
    "    #print(type(data[cols][0]))\n",
    "    if type(data[cols][0])  is not str:\n",
    "        columns.append(cols)\n",
    "        print(type(data[cols][0]))\n",
    "\n",
    "#columns"
   ]
  },
  {
   "cell_type": "code",
   "execution_count": 8,
   "metadata": {},
   "outputs": [
    {
     "data": {
      "text/plain": [
       "(14387, 11)"
      ]
     },
     "execution_count": 8,
     "metadata": {},
     "output_type": "execute_result"
    }
   ],
   "source": [
    "data = data[columns]\n",
    "data.shape"
   ]
  },
  {
   "cell_type": "code",
   "execution_count": 9,
   "metadata": {},
   "outputs": [],
   "source": [
    "from sklearn.preprocessing import StandardScaler\n",
    "\n",
    "scaled_data = StandardScaler()\n",
    "scaled_data = scaled_data.fit(data)\n",
    "scaled_data = scaled_data.transform(data)"
   ]
  },
  {
   "cell_type": "code",
   "execution_count": 10,
   "metadata": {},
   "outputs": [
    {
     "data": {
      "text/plain": [
       "(14387, 11)"
      ]
     },
     "execution_count": 10,
     "metadata": {},
     "output_type": "execute_result"
    }
   ],
   "source": [
    "scaled_data.shape"
   ]
  },
  {
   "cell_type": "code",
   "execution_count": 24,
   "metadata": {},
   "outputs": [
    {
     "data": {
      "text/plain": [
       "<AxesSubplot:>"
      ]
     },
     "execution_count": 24,
     "metadata": {},
     "output_type": "execute_result"
    },
    {
     "data": {
      "image/png": "[encoded data removed]",
      "text/plain": [
       "<Figure size 432x288 with 1 Axes>"
      ]
     },
     "metadata": {},
     "output_type": "display_data"
    }
   ],
   "source": [
    "sns.heatmap(data.isnull(), cmap=\"viridis\", yticklabels=False, cbar = False, square = False)\n"
   ]
  },
  {
   "cell_type": "code",
   "execution_count": 12,
   "metadata": {},
   "outputs": [],
   "source": [
    "\n",
    "from sklearn.linear_model import LogisticRegression\n",
    "\n",
    "model = LogisticRegression()\n"
   ]
  },
  {
   "cell_type": "code",
   "execution_count": 13,
   "metadata": {},
   "outputs": [
    {
     "name": "stdout",
     "output_type": "stream",
     "text": [
      "   start_position  end_position  chou_fasman  emini  kolaskar_tongaonkar  \\\n",
      "0             161           165        1.016  0.703                1.018   \n",
      "1             251           255        0.770  0.179                1.199   \n",
      "2             145           149        0.852  3.427                0.960   \n",
      "3             152           156        1.410  2.548                0.936   \n",
      "4              85            89        1.214  1.908                0.937   \n",
      "\n",
      "   parker  isoelectric_point  aromaticity  hydrophobicity  stability  target  \n",
      "0    2.22           5.810364     0.103275       -0.143829  40.273300       1  \n",
      "1   -3.86           6.210876     0.065476       -0.036905  24.998512       1  \n",
      "2    4.28           8.223938     0.091787        0.879227  27.863333       1  \n",
      "3    6.32           4.237976     0.044776       -0.521393  30.765373       1  \n",
      "4    4.64           6.867493     0.103846       -0.578846  21.684615       1  \n"
     ]
    }
   ],
   "source": [
    "#new_data = pd.DataFrame(scaled_data, columns = columns)\n",
    "\n",
    "X = data[data.columns[:-1]]\n",
    "y = data[data.columns[-1]]\n",
    "\n",
    "print(data.head())\n",
    "X_train,X_test, y_train, y_test = train_test_split(X, y, random_state = 42, test_size = 0.33,shuffle = True)"
   ]
  },
  {
   "cell_type": "code",
   "execution_count": 14,
   "metadata": {},
   "outputs": [
    {
     "name": "stdout",
     "output_type": "stream",
     "text": [
      "(9639, 10) (9639,)\n",
      "(4748, 10) (4748,)\n"
     ]
    },
    {
     "name": "stderr",
     "output_type": "stream",
     "text": [
      "c:\\users\\amanm\\appdata\\local\\programs\\python\\python37\\lib\\site-packages\\sklearn\\linear_model\\_logistic.py:764: ConvergenceWarning: lbfgs failed to converge (status=1):\n",
      "STOP: TOTAL NO. of ITERATIONS REACHED LIMIT.\n",
      "\n",
      "Increase the number of iterations (max_iter) or scale the data as shown in:\n",
      "    https://scikit-learn.org/stable/modules/preprocessing.html\n",
      "Please also refer to the documentation for alternative solver options:\n",
      "    https://scikit-learn.org/stable/modules/linear_model.html#logistic-regression\n",
      "  extra_warning_msg=_LOGISTIC_SOLVER_CONVERGENCE_MSG)\n"
     ]
    }
   ],
   "source": [
    "\n",
    "model.fit(X_train, y_train)\n",
    "print(X_train.shape,y_train.shape)\n",
    "print(X_test.shape,y_test.shape)\n"
   ]
  },
  {
   "cell_type": "code",
   "execution_count": 15,
   "metadata": {},
   "outputs": [],
   "source": [
    "\n",
    "predictions = model.predict(X_test)"
   ]
  },
  {
   "cell_type": "code",
   "execution_count": 16,
   "metadata": {},
   "outputs": [
    {
     "name": "stdout",
     "output_type": "stream",
     "text": [
      "[[3399   66]\n",
      " [1225   58]]\n",
      "\n",
      "\n",
      "              precision    recall  f1-score   support\n",
      "\n",
      "           0       0.74      0.98      0.84      3465\n",
      "           1       0.47      0.05      0.08      1283\n",
      "\n",
      "    accuracy                           0.73      4748\n",
      "   macro avg       0.60      0.51      0.46      4748\n",
      "weighted avg       0.66      0.73      0.64      4748\n",
      "\n"
     ]
    }
   ],
   "source": [
    "from sklearn.metrics import classification_report, confusion_matrix\n",
    "\n",
    "print(confusion_matrix(y_test, predictions))\n",
    "print(\"\\n\")\n",
    "print(classification_report(y_test, predictions))\n"
   ]
  },
  {
   "cell_type": "markdown",
   "metadata": {},
   "source": [
    "## Principal Component Analysis"
   ]
  },
  {
   "cell_type": "code",
   "execution_count": 17,
   "metadata": {},
   "outputs": [
    {
     "data": {
      "text/plain": [
       "(14387, 2)"
      ]
     },
     "execution_count": 17,
     "metadata": {},
     "output_type": "execute_result"
    }
   ],
   "source": [
    "from sklearn.decomposition import PCA\n",
    "\n",
    "pca = PCA(n_components=2)\n",
    "\n",
    "pca.fit(scaled_data)\n",
    "\n",
    "x_pca = pca.transform(scaled_data)\n",
    "x_pca.shape"
   ]
  },
  {
   "cell_type": "code",
   "execution_count": 115,
   "metadata": {},
   "outputs": [
    {
     "data": {
      "image/png": "[encoded data removed]",
      "text/plain": [
       "<Figure size 648x288 with 1 Axes>"
      ]
     },
     "metadata": {},
     "output_type": "display_data"
    }
   ],
   "source": [
    "def plot_pca(y_sklearn, y, title, x_label='Principal Component 1', y_label = 'Principal Component 2'):\n",
    "    with plt.style.context('seaborn-whitegrid'):\n",
    "        plt.figure(figsize=(9, 4))\n",
    "        for lab, col in zip((0,1), ('blue', 'red')):\n",
    "            plt.scatter(y_sklearn[y==lab, 0],\n",
    "                        y_sklearn[y==lab, 1],\n",
    "                        label=lab,\n",
    "                        c=col)\n",
    "        plt.xlabel(x_label)\n",
    "        plt.ylabel(y_label)\n",
    "        plt.legend(loc='lower center')\n",
    "        plt.tight_layout()\n",
    "        plt.title(title)\n",
    "        plt.show()\n",
    "plot_pca(x_pca, y,\"Entire Data\")"
   ]
  },
  {
   "cell_type": "code",
   "execution_count": 19,
   "metadata": {},
   "outputs": [
    {
     "data": {
      "text/plain": [
       "array([[-0.10128477, -0.1015249 ,  0.40583454,  0.324097  , -0.48861025,\n",
       "         0.53079393,  0.11042028, -0.21070731, -0.30889519,  0.19041864,\n",
       "         0.03075181],\n",
       "       [ 0.58660217,  0.58688647,  0.16496842,  0.14663633, -0.16735371,\n",
       "         0.14146991, -0.29507346,  0.29944285,  0.07211623, -0.18105417,\n",
       "         0.00293993]])"
      ]
     },
     "execution_count": 19,
     "metadata": {},
     "output_type": "execute_result"
    }
   ],
   "source": [
    "pca.components_"
   ]
  },
  {
   "cell_type": "code",
   "execution_count": 20,
   "metadata": {},
   "outputs": [
    {
     "data": {
      "text/plain": [
       "(2, 11)"
      ]
     },
     "execution_count": 20,
     "metadata": {},
     "output_type": "execute_result"
    }
   ],
   "source": [
    "new_data = pd.DataFrame(pca.components_, columns = data.columns)\n",
    "new_data.shape"
   ]
  },
  {
   "cell_type": "code",
   "execution_count": 116,
   "metadata": {},
   "outputs": [
    {
     "data": {
      "text/plain": [
       "<AxesSubplot:>"
      ]
     },
     "execution_count": 116,
     "metadata": {},
     "output_type": "execute_result"
    },
    {
     "data": {
      "image/png": "[encoded data removed]",
      "text/plain": [
       "<Figure size 864x432 with 2 Axes>"
      ]
     },
     "metadata": {},
     "output_type": "display_data"
    }
   ],
   "source": [
    "sns.set_style(\"darkgrid\")\n",
    "plt.figure(figsize=(12,6))\n",
    "sns.heatmap(new_data,cmap='plasma',)"
   ]
  },
  {
   "cell_type": "code",
   "execution_count": 22,
   "metadata": {},
   "outputs": [
    {
     "data": {
      "text/html": [
       "<div>\n",
       "<style scoped>\n",
       "    .dataframe tbody tr th:only-of-type {\n",
       "        vertical-align: middle;\n",
       "    }\n",
       "\n",
       "    .dataframe tbody tr th {\n",
       "        vertical-align: top;\n",
       "    }\n",
       "\n",
       "    .dataframe thead th {\n",
       "        text-align: right;\n",
       "    }\n",
       "</style>\n",
       "<table border=\"1\" class=\"dataframe\">\n",
       "  <thead>\n",
       "    <tr style=\"text-align: right;\">\n",
       "      <th></th>\n",
       "      <th>start_position</th>\n",
       "      <th>end_position</th>\n",
       "      <th>chou_fasman</th>\n",
       "      <th>emini</th>\n",
       "      <th>kolaskar_tongaonkar</th>\n",
       "      <th>parker</th>\n",
       "      <th>isoelectric_point</th>\n",
       "      <th>aromaticity</th>\n",
       "      <th>hydrophobicity</th>\n",
       "      <th>stability</th>\n",
       "      <th>target</th>\n",
       "    </tr>\n",
       "  </thead>\n",
       "  <tbody>\n",
       "    <tr>\n",
       "      <th>0</th>\n",
       "      <td>-0.101285</td>\n",
       "      <td>-0.101525</td>\n",
       "      <td>0.405835</td>\n",
       "      <td>0.324097</td>\n",
       "      <td>-0.488610</td>\n",
       "      <td>0.530794</td>\n",
       "      <td>0.110420</td>\n",
       "      <td>-0.210707</td>\n",
       "      <td>-0.308895</td>\n",
       "      <td>0.190419</td>\n",
       "      <td>0.030752</td>\n",
       "    </tr>\n",
       "    <tr>\n",
       "      <th>1</th>\n",
       "      <td>0.586602</td>\n",
       "      <td>0.586886</td>\n",
       "      <td>0.164968</td>\n",
       "      <td>0.146636</td>\n",
       "      <td>-0.167354</td>\n",
       "      <td>0.141470</td>\n",
       "      <td>-0.295073</td>\n",
       "      <td>0.299443</td>\n",
       "      <td>0.072116</td>\n",
       "      <td>-0.181054</td>\n",
       "      <td>0.002940</td>\n",
       "    </tr>\n",
       "  </tbody>\n",
       "</table>\n",
       "</div>"
      ],
      "text/plain": [
       "   start_position  end_position  chou_fasman     emini  kolaskar_tongaonkar  \\\n",
       "0       -0.101285     -0.101525     0.405835  0.324097            -0.488610   \n",
       "1        0.586602      0.586886     0.164968  0.146636            -0.167354   \n",
       "\n",
       "     parker  isoelectric_point  aromaticity  hydrophobicity  stability  \\\n",
       "0  0.530794           0.110420    -0.210707       -0.308895   0.190419   \n",
       "1  0.141470          -0.295073     0.299443        0.072116  -0.181054   \n",
       "\n",
       "     target  \n",
       "0  0.030752  \n",
       "1  0.002940  "
      ]
     },
     "execution_count": 22,
     "metadata": {},
     "output_type": "execute_result"
    }
   ],
   "source": [
    "new_data\n"
   ]
  },
  {
   "cell_type": "markdown",
   "metadata": {},
   "source": [
    "# K Nearest Neighbours"
   ]
  },
  {
   "cell_type": "code",
   "execution_count": 44,
   "metadata": {},
   "outputs": [],
   "source": [
    "from sklearn.neighbors import KNeighborsClassifier\n",
    "error_rate = []\n",
    "\n",
    "for i in range(1,50):\n",
    "\n",
    "    knn = KNeighborsClassifier(n_neighbors=i)\n",
    "    knn.fit(X_train,y_train)\n",
    "    knn_predictions = knn.predict(X_test)\n",
    "    error_rate.append(np.mean(knn_predictions != y_test))"
   ]
  },
  {
   "cell_type": "code",
   "execution_count": 50,
   "metadata": {},
   "outputs": [
    {
     "data": {
      "text/plain": [
       "[<matplotlib.lines.Line2D at 0x2422523f988>]"
      ]
     },
     "execution_count": 50,
     "metadata": {},
     "output_type": "execute_result"
    },
    {
     "data": {
      "image/png": "[encoded data removed]",
      "text/plain": [
       "<Figure size 432x288 with 1 Axes>"
      ]
     },
     "metadata": {},
     "output_type": "display_data"
    }
   ],
   "source": [
    "sns.set_style(\"darkgrid\")\n",
    "#sns.jointplot(range(1,50),error_rate)\n",
    "plt.plot(range(1,50),error_rate,color='blue',linestyle='dashed', marker='o',\n",
    "         markerfacecolor='red', markersize=5, )"
   ]
  },
  {
   "cell_type": "code",
   "execution_count": 63,
   "metadata": {},
   "outputs": [],
   "source": [
    "knn = KNeighborsClassifier(n_neighbors=2)\n",
    "knn.fit(X_train,y_train)\n",
    "knn_predictions = knn.predict(X_test)\n",
    "\n",
    "\n"
   ]
  },
  {
   "cell_type": "code",
   "execution_count": 65,
   "metadata": {},
   "outputs": [
    {
     "name": "stdout",
     "output_type": "stream",
     "text": [
      "[[3286  179]\n",
      " [ 996  287]]\n",
      "\n",
      "\n",
      "              precision    recall  f1-score   support\n",
      "\n",
      "           0       0.77      0.95      0.85      3465\n",
      "           1       0.62      0.22      0.33      1283\n",
      "\n",
      "    accuracy                           0.75      4748\n",
      "   macro avg       0.69      0.59      0.59      4748\n",
      "weighted avg       0.73      0.75      0.71      4748\n",
      "\n"
     ]
    }
   ],
   "source": [
    "print(confusion_matrix(y_test, knn_predictions))\n",
    "\n",
    "print(\"\\n\")\n",
    "print(classification_report(y_test, knn_predictions))\n"
   ]
  },
  {
   "cell_type": "markdown",
   "metadata": {},
   "source": [
    "\n",
    "# Random Forest Classifier"
   ]
  },
  {
   "cell_type": "code",
   "execution_count": 68,
   "metadata": {},
   "outputs": [],
   "source": [
    "from sklearn.ensemble import RandomForestClassifier\n",
    "\n",
    "random_model = RandomForestClassifier(n_estimators = 600)\n"
   ]
  },
  {
   "cell_type": "code",
   "execution_count": 69,
   "metadata": {},
   "outputs": [
    {
     "data": {
      "text/plain": [
       "RandomForestClassifier(n_estimators=600)"
      ]
     },
     "execution_count": 69,
     "metadata": {},
     "output_type": "execute_result"
    }
   ],
   "source": [
    "random_model.fit(X_train, y_train)"
   ]
  },
  {
   "cell_type": "code",
   "execution_count": 70,
   "metadata": {},
   "outputs": [],
   "source": [
    "random_predictions = random_model.predict(X_test)"
   ]
  },
  {
   "cell_type": "code",
   "execution_count": 71,
   "metadata": {},
   "outputs": [
    {
     "name": "stdout",
     "output_type": "stream",
     "text": [
      "[[3192  273]\n",
      " [ 417  866]]\n",
      "\n",
      "\n",
      "              precision    recall  f1-score   support\n",
      "\n",
      "           0       0.88      0.92      0.90      3465\n",
      "           1       0.76      0.67      0.72      1283\n",
      "\n",
      "    accuracy                           0.85      4748\n",
      "   macro avg       0.82      0.80      0.81      4748\n",
      "weighted avg       0.85      0.85      0.85      4748\n",
      "\n"
     ]
    }
   ],
   "source": [
    "print(confusion_matrix(y_test, random_predictions))\n",
    "\n",
    "print(\"\\n\")\n",
    "print(classification_report(y_test, random_predictions))\n"
   ]
  },
  {
   "cell_type": "markdown",
   "metadata": {},
   "source": [
    "# Support Vector Machine"
   ]
  },
  {
   "cell_type": "code",
   "execution_count": 72,
   "metadata": {},
   "outputs": [],
   "source": [
    "from sklearn.svm import SVC"
   ]
  },
  {
   "cell_type": "code",
   "execution_count": 87,
   "metadata": {},
   "outputs": [],
   "source": [
    "svc_model = SVC(C = 1000 , gamma = 0.001)"
   ]
  },
  {
   "cell_type": "code",
   "execution_count": 78,
   "metadata": {},
   "outputs": [],
   "source": [
    "param_grid = {\"C\":[0.1,1,10,100,1000], \"gamma\":[10,1,0.1,0.001,0.0001]}"
   ]
  },
  {
   "cell_type": "code",
   "execution_count": 80,
   "metadata": {},
   "outputs": [],
   "source": [
    "from sklearn.model_selection import GridSearchCV"
   ]
  },
  {
   "cell_type": "code",
   "execution_count": 82,
   "metadata": {},
   "outputs": [
    {
     "name": "stdout",
     "output_type": "stream",
     "text": [
      "Fitting 5 folds for each of 25 candidates, totalling 125 fits\n",
      "[CV] C=0.1, gamma=10 .................................................\n"
     ]
    },
    {
     "name": "stderr",
     "output_type": "stream",
     "text": [
      "[Parallel(n_jobs=1)]: Using backend SequentialBackend with 1 concurrent workers.\n"
     ]
    },
    {
     "name": "stdout",
     "output_type": "stream",
     "text": [
      "[CV] .................................. C=0.1, gamma=10, total=   9.3s\n",
      "[CV] C=0.1, gamma=10 .................................................\n"
     ]
    },
    {
     "name": "stderr",
     "output_type": "stream",
     "text": [
      "[Parallel(n_jobs=1)]: Done   1 out of   1 | elapsed:    9.2s remaining:    0.0s\n"
     ]
    },
    {
     "name": "stdout",
     "output_type": "stream",
     "text": [
      "[CV] .................................. C=0.1, gamma=10, total=   9.3s\n",
      "[CV] C=0.1, gamma=10 .................................................\n",
      "[CV] .................................. C=0.1, gamma=10, total=   9.3s\n",
      "[CV] C=0.1, gamma=10 .................................................\n",
      "[CV] .................................. C=0.1, gamma=10, total=   9.3s\n",
      "[CV] C=0.1, gamma=10 .................................................\n",
      "[CV] .................................. C=0.1, gamma=10, total=   9.3s\n",
      "[CV] C=0.1, gamma=1 ..................................................\n",
      "[CV] ................................... C=0.1, gamma=1, total=   9.8s\n",
      "[CV] C=0.1, gamma=1 ..................................................\n",
      "[CV] ................................... C=0.1, gamma=1, total=   9.8s\n",
      "[CV] C=0.1, gamma=1 ..................................................\n",
      "[CV] ................................... C=0.1, gamma=1, total=   9.5s\n",
      "[CV] C=0.1, gamma=1 ..................................................\n",
      "[CV] ................................... C=0.1, gamma=1, total=   9.7s\n",
      "[CV] C=0.1, gamma=1 ..................................................\n",
      "[CV] ................................... C=0.1, gamma=1, total=   9.9s\n",
      "[CV] C=0.1, gamma=0.1 ................................................\n",
      "[CV] ................................. C=0.1, gamma=0.1, total=   9.3s\n",
      "[CV] C=0.1, gamma=0.1 ................................................\n",
      "[CV] ................................. C=0.1, gamma=0.1, total=   9.3s\n",
      "[CV] C=0.1, gamma=0.1 ................................................\n",
      "[CV] ................................. C=0.1, gamma=0.1, total=  10.0s\n",
      "[CV] C=0.1, gamma=0.1 ................................................\n",
      "[CV] ................................. C=0.1, gamma=0.1, total=   9.9s\n",
      "[CV] C=0.1, gamma=0.1 ................................................\n",
      "[CV] ................................. C=0.1, gamma=0.1, total=  10.1s\n",
      "[CV] C=0.1, gamma=0.001 ..............................................\n",
      "[CV] ............................... C=0.1, gamma=0.001, total=   4.7s\n",
      "[CV] C=0.1, gamma=0.001 ..............................................\n",
      "[CV] ............................... C=0.1, gamma=0.001, total=   4.7s\n",
      "[CV] C=0.1, gamma=0.001 ..............................................\n",
      "[CV] ............................... C=0.1, gamma=0.001, total=   4.6s\n",
      "[CV] C=0.1, gamma=0.001 ..............................................\n",
      "[CV] ............................... C=0.1, gamma=0.001, total=   4.5s\n",
      "[CV] C=0.1, gamma=0.001 ..............................................\n",
      "[CV] ............................... C=0.1, gamma=0.001, total=   4.6s\n",
      "[CV] C=0.1, gamma=0.0001 .............................................\n",
      "[CV] .............................. C=0.1, gamma=0.0001, total=   2.9s\n",
      "[CV] C=0.1, gamma=0.0001 .............................................\n",
      "[CV] .............................. C=0.1, gamma=0.0001, total=   3.0s\n",
      "[CV] C=0.1, gamma=0.0001 .............................................\n",
      "[CV] .............................. C=0.1, gamma=0.0001, total=   2.9s\n",
      "[CV] C=0.1, gamma=0.0001 .............................................\n",
      "[CV] .............................. C=0.1, gamma=0.0001, total=   3.0s\n",
      "[CV] C=0.1, gamma=0.0001 .............................................\n",
      "[CV] .............................. C=0.1, gamma=0.0001, total=   2.9s\n",
      "[CV] C=1, gamma=10 ...................................................\n",
      "[CV] .................................... C=1, gamma=10, total=  11.3s\n",
      "[CV] C=1, gamma=10 ...................................................\n",
      "[CV] .................................... C=1, gamma=10, total=  11.3s\n",
      "[CV] C=1, gamma=10 ...................................................\n",
      "[CV] .................................... C=1, gamma=10, total=  11.4s\n",
      "[CV] C=1, gamma=10 ...................................................\n",
      "[CV] .................................... C=1, gamma=10, total=  10.9s\n",
      "[CV] C=1, gamma=10 ...................................................\n",
      "[CV] .................................... C=1, gamma=10, total=  11.3s\n",
      "[CV] C=1, gamma=1 ....................................................\n",
      "[CV] ..................................... C=1, gamma=1, total=  10.5s\n",
      "[CV] C=1, gamma=1 ....................................................\n",
      "[CV] ..................................... C=1, gamma=1, total=  10.4s\n",
      "[CV] C=1, gamma=1 ....................................................\n",
      "[CV] ..................................... C=1, gamma=1, total=  10.4s\n",
      "[CV] C=1, gamma=1 ....................................................\n",
      "[CV] ..................................... C=1, gamma=1, total=  10.4s\n",
      "[CV] C=1, gamma=1 ....................................................\n",
      "[CV] ..................................... C=1, gamma=1, total=  10.5s\n",
      "[CV] C=1, gamma=0.1 ..................................................\n",
      "[CV] ................................... C=1, gamma=0.1, total=  10.7s\n",
      "[CV] C=1, gamma=0.1 ..................................................\n",
      "[CV] ................................... C=1, gamma=0.1, total=  10.0s\n",
      "[CV] C=1, gamma=0.1 ..................................................\n",
      "[CV] ................................... C=1, gamma=0.1, total=   9.7s\n",
      "[CV] C=1, gamma=0.1 ..................................................\n",
      "[CV] ................................... C=1, gamma=0.1, total=  10.0s\n",
      "[CV] C=1, gamma=0.1 ..................................................\n",
      "[CV] ................................... C=1, gamma=0.1, total=  10.6s\n",
      "[CV] C=1, gamma=0.001 ................................................\n",
      "[CV] ................................. C=1, gamma=0.001, total=   5.4s\n",
      "[CV] C=1, gamma=0.001 ................................................\n",
      "[CV] ................................. C=1, gamma=0.001, total=   5.4s\n",
      "[CV] C=1, gamma=0.001 ................................................\n",
      "[CV] ................................. C=1, gamma=0.001, total=   5.2s\n",
      "[CV] C=1, gamma=0.001 ................................................\n",
      "[CV] ................................. C=1, gamma=0.001, total=   5.1s\n",
      "[CV] C=1, gamma=0.001 ................................................\n",
      "[CV] ................................. C=1, gamma=0.001, total=   5.2s\n",
      "[CV] C=1, gamma=0.0001 ...............................................\n",
      "[CV] ................................ C=1, gamma=0.0001, total=   5.1s\n",
      "[CV] C=1, gamma=0.0001 ...............................................\n",
      "[CV] ................................ C=1, gamma=0.0001, total=   5.2s\n",
      "[CV] C=1, gamma=0.0001 ...............................................\n",
      "[CV] ................................ C=1, gamma=0.0001, total=   5.4s\n",
      "[CV] C=1, gamma=0.0001 ...............................................\n",
      "[CV] ................................ C=1, gamma=0.0001, total=   5.2s\n",
      "[CV] C=1, gamma=0.0001 ...............................................\n",
      "[CV] ................................ C=1, gamma=0.0001, total=   5.2s\n",
      "[CV] C=10, gamma=10 ..................................................\n",
      "[CV] ................................... C=10, gamma=10, total=  27.8s\n",
      "[CV] C=10, gamma=10 ..................................................\n",
      "[CV] ................................... C=10, gamma=10, total=  27.5s\n",
      "[CV] C=10, gamma=10 ..................................................\n",
      "[CV] ................................... C=10, gamma=10, total=  27.3s\n",
      "[CV] C=10, gamma=10 ..................................................\n",
      "[CV] ................................... C=10, gamma=10, total=  27.4s\n",
      "[CV] C=10, gamma=10 ..................................................\n",
      "[CV] ................................... C=10, gamma=10, total=  29.4s\n",
      "[CV] C=10, gamma=1 ...................................................\n",
      "[CV] .................................... C=10, gamma=1, total=  17.8s\n",
      "[CV] C=10, gamma=1 ...................................................\n",
      "[CV] .................................... C=10, gamma=1, total=  18.1s\n",
      "[CV] C=10, gamma=1 ...................................................\n",
      "[CV] .................................... C=10, gamma=1, total=  18.7s\n",
      "[CV] C=10, gamma=1 ...................................................\n",
      "[CV] .................................... C=10, gamma=1, total=  17.8s\n",
      "[CV] C=10, gamma=1 ...................................................\n"
     ]
    },
    {
     "name": "stdout",
     "output_type": "stream",
     "text": [
      "[CV] .................................... C=10, gamma=1, total=  18.9s\n",
      "[CV] C=10, gamma=0.1 .................................................\n",
      "[CV] .................................. C=10, gamma=0.1, total=  13.1s\n",
      "[CV] C=10, gamma=0.1 .................................................\n",
      "[CV] .................................. C=10, gamma=0.1, total=  11.8s\n",
      "[CV] C=10, gamma=0.1 .................................................\n",
      "[CV] .................................. C=10, gamma=0.1, total=  11.8s\n",
      "[CV] C=10, gamma=0.1 .................................................\n",
      "[CV] .................................. C=10, gamma=0.1, total=  11.8s\n",
      "[CV] C=10, gamma=0.1 .................................................\n",
      "[CV] .................................. C=10, gamma=0.1, total=  11.7s\n",
      "[CV] C=10, gamma=0.001 ...............................................\n",
      "[CV] ................................ C=10, gamma=0.001, total=   6.4s\n",
      "[CV] C=10, gamma=0.001 ...............................................\n",
      "[CV] ................................ C=10, gamma=0.001, total=   6.1s\n",
      "[CV] C=10, gamma=0.001 ...............................................\n",
      "[CV] ................................ C=10, gamma=0.001, total=   6.0s\n",
      "[CV] C=10, gamma=0.001 ...............................................\n",
      "[CV] ................................ C=10, gamma=0.001, total=   6.0s\n",
      "[CV] C=10, gamma=0.001 ...............................................\n",
      "[CV] ................................ C=10, gamma=0.001, total=   6.2s\n",
      "[CV] C=10, gamma=0.0001 ..............................................\n",
      "[CV] ............................... C=10, gamma=0.0001, total=   9.1s\n",
      "[CV] C=10, gamma=0.0001 ..............................................\n",
      "[CV] ............................... C=10, gamma=0.0001, total=   8.7s\n",
      "[CV] C=10, gamma=0.0001 ..............................................\n",
      "[CV] ............................... C=10, gamma=0.0001, total=   9.0s\n",
      "[CV] C=10, gamma=0.0001 ..............................................\n",
      "[CV] ............................... C=10, gamma=0.0001, total=   8.3s\n",
      "[CV] C=10, gamma=0.0001 ..............................................\n",
      "[CV] ............................... C=10, gamma=0.0001, total=   8.3s\n",
      "[CV] C=100, gamma=10 .................................................\n",
      "[CV] .................................. C=100, gamma=10, total=  27.3s\n",
      "[CV] C=100, gamma=10 .................................................\n",
      "[CV] .................................. C=100, gamma=10, total=  27.9s\n",
      "[CV] C=100, gamma=10 .................................................\n",
      "[CV] .................................. C=100, gamma=10, total=  28.1s\n",
      "[CV] C=100, gamma=10 .................................................\n",
      "[CV] .................................. C=100, gamma=10, total=  27.8s\n",
      "[CV] C=100, gamma=10 .................................................\n",
      "[CV] .................................. C=100, gamma=10, total=  29.5s\n",
      "[CV] C=100, gamma=1 ..................................................\n",
      "[CV] ................................... C=100, gamma=1, total=  18.0s\n",
      "[CV] C=100, gamma=1 ..................................................\n",
      "[CV] ................................... C=100, gamma=1, total=  17.9s\n",
      "[CV] C=100, gamma=1 ..................................................\n",
      "[CV] ................................... C=100, gamma=1, total=  18.9s\n",
      "[CV] C=100, gamma=1 ..................................................\n",
      "[CV] ................................... C=100, gamma=1, total=  18.1s\n",
      "[CV] C=100, gamma=1 ..................................................\n",
      "[CV] ................................... C=100, gamma=1, total=  18.0s\n",
      "[CV] C=100, gamma=0.1 ................................................\n",
      "[CV] ................................. C=100, gamma=0.1, total=  12.0s\n",
      "[CV] C=100, gamma=0.1 ................................................\n",
      "[CV] ................................. C=100, gamma=0.1, total=  11.7s\n",
      "[CV] C=100, gamma=0.1 ................................................\n",
      "[CV] ................................. C=100, gamma=0.1, total=  11.9s\n",
      "[CV] C=100, gamma=0.1 ................................................\n",
      "[CV] ................................. C=100, gamma=0.1, total=  11.9s\n",
      "[CV] C=100, gamma=0.1 ................................................\n",
      "[CV] ................................. C=100, gamma=0.1, total=  12.6s\n",
      "[CV] C=100, gamma=0.001 ..............................................\n",
      "[CV] ............................... C=100, gamma=0.001, total=  11.0s\n",
      "[CV] C=100, gamma=0.001 ..............................................\n",
      "[CV] ............................... C=100, gamma=0.001, total=  11.9s\n",
      "[CV] C=100, gamma=0.001 ..............................................\n",
      "[CV] ............................... C=100, gamma=0.001, total=  10.9s\n",
      "[CV] C=100, gamma=0.001 ..............................................\n",
      "[CV] ............................... C=100, gamma=0.001, total=  11.0s\n",
      "[CV] C=100, gamma=0.001 ..............................................\n",
      "[CV] ............................... C=100, gamma=0.001, total=  10.9s\n",
      "[CV] C=100, gamma=0.0001 .............................................\n",
      "[CV] .............................. C=100, gamma=0.0001, total=  15.0s\n",
      "[CV] C=100, gamma=0.0001 .............................................\n",
      "[CV] .............................. C=100, gamma=0.0001, total=  14.6s\n",
      "[CV] C=100, gamma=0.0001 .............................................\n",
      "[CV] .............................. C=100, gamma=0.0001, total=  13.1s\n",
      "[CV] C=100, gamma=0.0001 .............................................\n",
      "[CV] .............................. C=100, gamma=0.0001, total=  11.5s\n",
      "[CV] C=100, gamma=0.0001 .............................................\n",
      "[CV] .............................. C=100, gamma=0.0001, total=  11.4s\n",
      "[CV] C=1000, gamma=10 ................................................\n",
      "[CV] ................................. C=1000, gamma=10, total=  27.7s\n",
      "[CV] C=1000, gamma=10 ................................................\n",
      "[CV] ................................. C=1000, gamma=10, total=  27.2s\n",
      "[CV] C=1000, gamma=10 ................................................\n",
      "[CV] ................................. C=1000, gamma=10, total=  27.2s\n",
      "[CV] C=1000, gamma=10 ................................................\n",
      "[CV] ................................. C=1000, gamma=10, total=  27.3s\n",
      "[CV] C=1000, gamma=10 ................................................\n",
      "[CV] ................................. C=1000, gamma=10, total=  29.5s\n",
      "[CV] C=1000, gamma=1 .................................................\n",
      "[CV] .................................. C=1000, gamma=1, total=  17.9s\n",
      "[CV] C=1000, gamma=1 .................................................\n",
      "[CV] .................................. C=1000, gamma=1, total=  17.8s\n",
      "[CV] C=1000, gamma=1 .................................................\n",
      "[CV] .................................. C=1000, gamma=1, total=  18.8s\n",
      "[CV] C=1000, gamma=1 .................................................\n",
      "[CV] .................................. C=1000, gamma=1, total=  18.0s\n",
      "[CV] C=1000, gamma=1 .................................................\n",
      "[CV] .................................. C=1000, gamma=1, total=  18.0s\n",
      "[CV] C=1000, gamma=0.1 ...............................................\n",
      "[CV] ................................ C=1000, gamma=0.1, total=  12.0s\n",
      "[CV] C=1000, gamma=0.1 ...............................................\n",
      "[CV] ................................ C=1000, gamma=0.1, total=  11.5s\n",
      "[CV] C=1000, gamma=0.1 ...............................................\n",
      "[CV] ................................ C=1000, gamma=0.1, total=  11.1s\n",
      "[CV] C=1000, gamma=0.1 ...............................................\n",
      "[CV] ................................ C=1000, gamma=0.1, total=  11.0s\n",
      "[CV] C=1000, gamma=0.1 ...............................................\n",
      "[CV] ................................ C=1000, gamma=0.1, total=  11.4s\n",
      "[CV] C=1000, gamma=0.001 .............................................\n",
      "[CV] .............................. C=1000, gamma=0.001, total=  38.0s\n",
      "[CV] C=1000, gamma=0.001 .............................................\n",
      "[CV] .............................. C=1000, gamma=0.001, total=  43.6s\n",
      "[CV] C=1000, gamma=0.001 .............................................\n"
     ]
    },
    {
     "name": "stdout",
     "output_type": "stream",
     "text": [
      "[CV] .............................. C=1000, gamma=0.001, total=  36.9s\n",
      "[CV] C=1000, gamma=0.001 .............................................\n",
      "[CV] .............................. C=1000, gamma=0.001, total=  40.6s\n",
      "[CV] C=1000, gamma=0.001 .............................................\n",
      "[CV] .............................. C=1000, gamma=0.001, total=  41.7s\n",
      "[CV] C=1000, gamma=0.0001 ............................................\n",
      "[CV] ............................. C=1000, gamma=0.0001, total=  36.9s\n",
      "[CV] C=1000, gamma=0.0001 ............................................\n",
      "[CV] ............................. C=1000, gamma=0.0001, total=  32.3s\n",
      "[CV] C=1000, gamma=0.0001 ............................................\n",
      "[CV] ............................. C=1000, gamma=0.0001, total=  30.7s\n",
      "[CV] C=1000, gamma=0.0001 ............................................\n",
      "[CV] ............................. C=1000, gamma=0.0001, total=  35.0s\n",
      "[CV] C=1000, gamma=0.0001 ............................................\n",
      "[CV] ............................. C=1000, gamma=0.0001, total=  34.6s\n"
     ]
    },
    {
     "name": "stderr",
     "output_type": "stream",
     "text": [
      "[Parallel(n_jobs=1)]: Done 125 out of 125 | elapsed: 30.5min finished\n"
     ]
    },
    {
     "data": {
      "text/plain": [
       "GridSearchCV(estimator=SVC(),\n",
       "             param_grid={'C': [0.1, 1, 10, 100, 1000],\n",
       "                         'gamma': [10, 1, 0.1, 0.001, 0.0001]},\n",
       "             verbose=2)"
      ]
     },
     "execution_count": 82,
     "metadata": {},
     "output_type": "execute_result"
    }
   ],
   "source": [
    "grid_search_model = GridSearchCV(SVC(),param_grid,refit=True,verbose=2)\n",
    "grid_search_model.fit(X_train,y_train)"
   ]
  },
  {
   "cell_type": "code",
   "execution_count": 85,
   "metadata": {},
   "outputs": [
    {
     "data": {
      "text/plain": [
       "SVC(C=1000, gamma=0.001)"
      ]
     },
     "execution_count": 85,
     "metadata": {},
     "output_type": "execute_result"
    }
   ],
   "source": [
    "grid_search_model.best_estimator_\n",
    "\n",
    "#grid_search_predictions = grid_search_model.predict(y_test)"
   ]
  },
  {
   "cell_type": "code",
   "execution_count": 88,
   "metadata": {},
   "outputs": [
    {
     "data": {
      "text/plain": [
       "SVC(C=1000, gamma=0.001)"
      ]
     },
     "execution_count": 88,
     "metadata": {},
     "output_type": "execute_result"
    }
   ],
   "source": [
    "svc_model.fit(X_train, y_train)"
   ]
  },
  {
   "cell_type": "code",
   "execution_count": 89,
   "metadata": {},
   "outputs": [],
   "source": [
    "svc_predictions = svc_model.predict(X_test)"
   ]
  },
  {
   "cell_type": "code",
   "execution_count": 101,
   "metadata": {},
   "outputs": [
    {
     "name": "stdout",
     "output_type": "stream",
     "text": [
      "Logistic Regression    :  [[3399   66]\n",
      " [1225   58]]\n",
      "Support Vector Machine :  [[3228  237]\n",
      " [ 862  421]]\n",
      "Random Forest          :  [[3192  273]\n",
      " [ 417  866]]\n",
      "K Nearest Neigbiour    :  [[3286  179]\n",
      " [ 996  287]]\n",
      "\n",
      "\n",
      "Logistic Regression    : \n",
      "               precision    recall  f1-score   support\n",
      "\n",
      "           0       0.74      0.98      0.84      3465\n",
      "           1       0.47      0.05      0.08      1283\n",
      "\n",
      "    accuracy                           0.73      4748\n",
      "   macro avg       0.60      0.51      0.46      4748\n",
      "weighted avg       0.66      0.73      0.64      4748\n",
      "\n",
      "Support Vector Machine :  \n",
      "               precision    recall  f1-score   support\n",
      "\n",
      "           0       0.79      0.93      0.85      3465\n",
      "           1       0.64      0.33      0.43      1283\n",
      "\n",
      "    accuracy                           0.77      4748\n",
      "   macro avg       0.71      0.63      0.64      4748\n",
      "weighted avg       0.75      0.77      0.74      4748\n",
      "\n",
      "Random Forest          :  \n",
      "               precision    recall  f1-score   support\n",
      "\n",
      "           0       0.88      0.92      0.90      3465\n",
      "           1       0.76      0.67      0.72      1283\n",
      "\n",
      "    accuracy                           0.85      4748\n",
      "   macro avg       0.82      0.80      0.81      4748\n",
      "weighted avg       0.85      0.85      0.85      4748\n",
      "\n",
      "K Nearest Neigbiour    :  \n",
      "               precision    recall  f1-score   support\n",
      "\n",
      "           0       0.77      0.95      0.85      3465\n",
      "           1       0.62      0.22      0.33      1283\n",
      "\n",
      "    accuracy                           0.75      4748\n",
      "   macro avg       0.69      0.59      0.59      4748\n",
      "weighted avg       0.73      0.75      0.71      4748\n",
      "\n"
     ]
    }
   ],
   "source": [
    "print(\"Logistic Regression    : \", confusion_matrix(y_test, predictions))\n",
    "print(\"Support Vector Machine : \",confusion_matrix(y_test, svc_predictions))\n",
    "print(\"Random Forest          : \",confusion_matrix(y_test, random_predictions))\n",
    "print(\"K Nearest Neigbiour    : \",confusion_matrix(y_test, knn_predictions))\n",
    "print(\"\\n\")\n",
    "print(\"Logistic Regression    : \\n\", classification_report(y_test, predictions))\n",
    "print(\"Support Vector Machine :  \\n\",classification_report(y_test, svc_predictions))\n",
    "print(\"Random Forest          :  \\n\",classification_report(y_test, random_predictions))\n",
    "print(\"K Nearest Neigbiour    :  \\n\",classification_report(y_test, knn_predictions))\n",
    "\n"
   ]
  }
 ],
 "metadata": {
  "kernelspec": {
   "display_name": "Python 3",
   "language": "python",
   "name": "python3"
  },
  "language_info": {
   "codemirror_mode": {
    "name": "ipython",
    "version": 3
   },
   "file_extension": ".py",
   "mimetype": "text/x-python",
   "name": "python",
   "nbconvert_exporter": "python",
   "pygments_lexer": "ipython3",
   "version": "3.7.5"
  }
 },
 "nbformat": 4,
 "nbformat_minor": 4
}
